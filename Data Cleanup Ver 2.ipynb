{
 "cells": [
  {
   "cell_type": "code",
   "execution_count": 1,
   "metadata": {
    "ExecuteTime": {
     "end_time": "2021-04-30T08:41:51.193122Z",
     "start_time": "2021-04-30T08:41:50.414663Z"
    }
   },
   "outputs": [],
   "source": [
    "import numpy as np\n",
    "import pandas as pd\n",
    "import matplotlib.pyplot as plt\n",
    "from matplotlib import cm\n",
    "import seaborn as sns\n",
    "import networkx as nx\n",
    "\n",
    "plt.style.use('ggplot')\n",
    "%matplotlib inline\n",
    "%config InlineBackend.figure_format = 'retina'"
   ]
  },
  {
   "cell_type": "code",
   "execution_count": null,
   "metadata": {},
   "outputs": [],
   "source": []
  },
  {
   "cell_type": "code",
   "execution_count": null,
   "metadata": {},
   "outputs": [],
   "source": []
  },
  {
   "cell_type": "code",
   "execution_count": 6,
   "metadata": {
    "ExecuteTime": {
     "end_time": "2021-04-30T08:52:24.537087Z",
     "start_time": "2021-04-30T08:52:21.861971Z"
    }
   },
   "outputs": [
    {
     "name": "stderr",
     "output_type": "stream",
     "text": [
      "/Users/eoinkeaney/opt/anaconda3/lib/python3.8/site-packages/IPython/core/interactiveshell.py:3146: DtypeWarning: Columns (20,23,25) have mixed types.Specify dtype option on import or set low_memory=False.\n",
      "  has_raised = await self.run_ast_nodes(code_ast.body, cell_name,\n"
     ]
    }
   ],
   "source": [
    "df = pd.read_csv('/Users/eoinkeaney/Desktop/Cap_Stone_Data/comm_sentament_vader_score_goggle_whatson_ver_2_30-4-2021.csv')"
   ]
  },
  {
   "cell_type": "code",
   "execution_count": null,
   "metadata": {},
   "outputs": [],
   "source": []
  },
  {
   "cell_type": "code",
   "execution_count": 8,
   "metadata": {
    "ExecuteTime": {
     "end_time": "2021-04-30T08:53:50.338655Z",
     "start_time": "2021-04-30T08:53:50.276177Z"
    }
   },
   "outputs": [],
   "source": [
    "df2 = df.copy()"
   ]
  },
  {
   "cell_type": "code",
   "execution_count": 9,
   "metadata": {
    "ExecuteTime": {
     "end_time": "2021-04-30T08:54:41.531852Z",
     "start_time": "2021-04-30T08:54:41.505744Z"
    }
   },
   "outputs": [],
   "source": [
    "\n",
    "df2.set_index('parent_id',inplace=True,drop=False)"
   ]
  },
  {
   "cell_type": "code",
   "execution_count": 10,
   "metadata": {
    "ExecuteTime": {
     "end_time": "2021-04-30T08:54:52.034959Z",
     "start_time": "2021-04-30T08:54:51.999922Z"
    }
   },
   "outputs": [
    {
     "data": {
      "text/html": [
       "<div>\n",
       "<style scoped>\n",
       "    .dataframe tbody tr th:only-of-type {\n",
       "        vertical-align: middle;\n",
       "    }\n",
       "\n",
       "    .dataframe tbody tr th {\n",
       "        vertical-align: top;\n",
       "    }\n",
       "\n",
       "    .dataframe thead th {\n",
       "        text-align: right;\n",
       "    }\n",
       "</style>\n",
       "<table border=\"1\" class=\"dataframe\">\n",
       "  <thead>\n",
       "    <tr style=\"text-align: right;\">\n",
       "      <th></th>\n",
       "      <th>id</th>\n",
       "      <th>id.1</th>\n",
       "      <th>name</th>\n",
       "      <th>score</th>\n",
       "      <th>parent_id</th>\n",
       "      <th>depth</th>\n",
       "      <th>body</th>\n",
       "      <th>author</th>\n",
       "      <th>created_utc</th>\n",
       "      <th>subreddit_name_prefixed</th>\n",
       "      <th>...</th>\n",
       "      <th>vader_compound</th>\n",
       "      <th>vader_neg</th>\n",
       "      <th>vader_neu</th>\n",
       "      <th>vader_pos</th>\n",
       "      <th>google_name</th>\n",
       "      <th>google_sentiment_score</th>\n",
       "      <th>google_sentiment_magnitude</th>\n",
       "      <th>whatson_name</th>\n",
       "      <th>whatson_sentiment_score</th>\n",
       "      <th>whatson_sentiment_label</th>\n",
       "    </tr>\n",
       "    <tr>\n",
       "      <th>parent_id</th>\n",
       "      <th></th>\n",
       "      <th></th>\n",
       "      <th></th>\n",
       "      <th></th>\n",
       "      <th></th>\n",
       "      <th></th>\n",
       "      <th></th>\n",
       "      <th></th>\n",
       "      <th></th>\n",
       "      <th></th>\n",
       "      <th></th>\n",
       "      <th></th>\n",
       "      <th></th>\n",
       "      <th></th>\n",
       "      <th></th>\n",
       "      <th></th>\n",
       "      <th></th>\n",
       "      <th></th>\n",
       "      <th></th>\n",
       "      <th></th>\n",
       "      <th></th>\n",
       "    </tr>\n",
       "  </thead>\n",
       "  <tbody>\n",
       "    <tr>\n",
       "      <th>t3_h8fk3v</th>\n",
       "      <td>fur7bzl</td>\n",
       "      <td>fur7bzl</td>\n",
       "      <td>t1_fur7bzl</td>\n",
       "      <td>3.0</td>\n",
       "      <td>t3_h8fk3v</td>\n",
       "      <td>0.0</td>\n",
       "      <td>Just moved to London 2 weeks ago and was cycli...</td>\n",
       "      <td>Derpitsmike</td>\n",
       "      <td>1.592095e+09</td>\n",
       "      <td>r/london</td>\n",
       "      <td>...</td>\n",
       "      <td>0.9136</td>\n",
       "      <td>0.0</td>\n",
       "      <td>0.785</td>\n",
       "      <td>0.215</td>\n",
       "      <td>fur7bzl</td>\n",
       "      <td>0.3</td>\n",
       "      <td>0.7</td>\n",
       "      <td>fur7bzl</td>\n",
       "      <td>0.821724</td>\n",
       "      <td>positive</td>\n",
       "    </tr>\n",
       "    <tr>\n",
       "      <th>t3_h8fk3v</th>\n",
       "      <td>fus2nh0</td>\n",
       "      <td>fus2nh0</td>\n",
       "      <td>t1_fus2nh0</td>\n",
       "      <td>3.0</td>\n",
       "      <td>t3_h8fk3v</td>\n",
       "      <td>0.0</td>\n",
       "      <td>Get there early enough in the morning, 5ish,an...</td>\n",
       "      <td>NaN</td>\n",
       "      <td>1.592118e+09</td>\n",
       "      <td>r/london</td>\n",
       "      <td>...</td>\n",
       "      <td>0.3182</td>\n",
       "      <td>0.0</td>\n",
       "      <td>0.901</td>\n",
       "      <td>0.099</td>\n",
       "      <td>fus2nh0</td>\n",
       "      <td>0.6</td>\n",
       "      <td>0.6</td>\n",
       "      <td>fus2nh0</td>\n",
       "      <td>-0.504150</td>\n",
       "      <td>negative</td>\n",
       "    </tr>\n",
       "  </tbody>\n",
       "</table>\n",
       "<p>2 rows × 26 columns</p>\n",
       "</div>"
      ],
      "text/plain": [
       "                id     id.1        name  score  parent_id  depth  \\\n",
       "parent_id                                                          \n",
       "t3_h8fk3v  fur7bzl  fur7bzl  t1_fur7bzl    3.0  t3_h8fk3v    0.0   \n",
       "t3_h8fk3v  fus2nh0  fus2nh0  t1_fus2nh0    3.0  t3_h8fk3v    0.0   \n",
       "\n",
       "                                                        body       author  \\\n",
       "parent_id                                                                   \n",
       "t3_h8fk3v  Just moved to London 2 weeks ago and was cycli...  Derpitsmike   \n",
       "t3_h8fk3v  Get there early enough in the morning, 5ish,an...          NaN   \n",
       "\n",
       "            created_utc subreddit_name_prefixed  ... vader_compound  \\\n",
       "parent_id                                        ...                  \n",
       "t3_h8fk3v  1.592095e+09                r/london  ...         0.9136   \n",
       "t3_h8fk3v  1.592118e+09                r/london  ...         0.3182   \n",
       "\n",
       "           vader_neg vader_neu vader_pos  google_name  google_sentiment_score  \\\n",
       "parent_id                                                                       \n",
       "t3_h8fk3v        0.0     0.785     0.215      fur7bzl                     0.3   \n",
       "t3_h8fk3v        0.0     0.901     0.099      fus2nh0                     0.6   \n",
       "\n",
       "           google_sentiment_magnitude  whatson_name  whatson_sentiment_score  \\\n",
       "parent_id                                                                      \n",
       "t3_h8fk3v                         0.7       fur7bzl                 0.821724   \n",
       "t3_h8fk3v                         0.6       fus2nh0                -0.504150   \n",
       "\n",
       "           whatson_sentiment_label  \n",
       "parent_id                           \n",
       "t3_h8fk3v                 positive  \n",
       "t3_h8fk3v                 negative  \n",
       "\n",
       "[2 rows x 26 columns]"
      ]
     },
     "execution_count": 10,
     "metadata": {},
     "output_type": "execute_result"
    }
   ],
   "source": [
    "df2.head(2)"
   ]
  },
  {
   "cell_type": "code",
   "execution_count": 11,
   "metadata": {
    "ExecuteTime": {
     "end_time": "2021-04-30T08:55:06.752362Z",
     "start_time": "2021-04-30T08:55:06.716332Z"
    }
   },
   "outputs": [
    {
     "data": {
      "text/html": [
       "<div>\n",
       "<style scoped>\n",
       "    .dataframe tbody tr th:only-of-type {\n",
       "        vertical-align: middle;\n",
       "    }\n",
       "\n",
       "    .dataframe tbody tr th {\n",
       "        vertical-align: top;\n",
       "    }\n",
       "\n",
       "    .dataframe thead th {\n",
       "        text-align: right;\n",
       "    }\n",
       "</style>\n",
       "<table border=\"1\" class=\"dataframe\">\n",
       "  <thead>\n",
       "    <tr style=\"text-align: right;\">\n",
       "      <th></th>\n",
       "      <th>id</th>\n",
       "      <th>id.1</th>\n",
       "      <th>name</th>\n",
       "      <th>score</th>\n",
       "      <th>parent_id</th>\n",
       "      <th>depth</th>\n",
       "      <th>body</th>\n",
       "      <th>author</th>\n",
       "      <th>created_utc</th>\n",
       "      <th>subreddit_name_prefixed</th>\n",
       "      <th>...</th>\n",
       "      <th>vader_compound</th>\n",
       "      <th>vader_neg</th>\n",
       "      <th>vader_neu</th>\n",
       "      <th>vader_pos</th>\n",
       "      <th>google_name</th>\n",
       "      <th>google_sentiment_score</th>\n",
       "      <th>google_sentiment_magnitude</th>\n",
       "      <th>whatson_name</th>\n",
       "      <th>whatson_sentiment_score</th>\n",
       "      <th>whatson_sentiment_label</th>\n",
       "    </tr>\n",
       "  </thead>\n",
       "  <tbody>\n",
       "    <tr>\n",
       "      <th>0</th>\n",
       "      <td>fur7bzl</td>\n",
       "      <td>fur7bzl</td>\n",
       "      <td>t1_fur7bzl</td>\n",
       "      <td>3.0</td>\n",
       "      <td>t3_h8fk3v</td>\n",
       "      <td>0.0</td>\n",
       "      <td>Just moved to London 2 weeks ago and was cycli...</td>\n",
       "      <td>Derpitsmike</td>\n",
       "      <td>1.592095e+09</td>\n",
       "      <td>r/london</td>\n",
       "      <td>...</td>\n",
       "      <td>0.9136</td>\n",
       "      <td>0.0</td>\n",
       "      <td>0.785</td>\n",
       "      <td>0.215</td>\n",
       "      <td>fur7bzl</td>\n",
       "      <td>0.3</td>\n",
       "      <td>0.7</td>\n",
       "      <td>fur7bzl</td>\n",
       "      <td>0.821724</td>\n",
       "      <td>positive</td>\n",
       "    </tr>\n",
       "    <tr>\n",
       "      <th>1</th>\n",
       "      <td>fus2nh0</td>\n",
       "      <td>fus2nh0</td>\n",
       "      <td>t1_fus2nh0</td>\n",
       "      <td>3.0</td>\n",
       "      <td>t3_h8fk3v</td>\n",
       "      <td>0.0</td>\n",
       "      <td>Get there early enough in the morning, 5ish,an...</td>\n",
       "      <td>NaN</td>\n",
       "      <td>1.592118e+09</td>\n",
       "      <td>r/london</td>\n",
       "      <td>...</td>\n",
       "      <td>0.3182</td>\n",
       "      <td>0.0</td>\n",
       "      <td>0.901</td>\n",
       "      <td>0.099</td>\n",
       "      <td>fus2nh0</td>\n",
       "      <td>0.6</td>\n",
       "      <td>0.6</td>\n",
       "      <td>fus2nh0</td>\n",
       "      <td>-0.504150</td>\n",
       "      <td>negative</td>\n",
       "    </tr>\n",
       "    <tr>\n",
       "      <th>2</th>\n",
       "      <td>fusv09n</td>\n",
       "      <td>fusv09n</td>\n",
       "      <td>t1_fusv09n</td>\n",
       "      <td>2.0</td>\n",
       "      <td>t1_fur7bzl</td>\n",
       "      <td>1.0</td>\n",
       "      <td>Love how in London there's so much random hist...</td>\n",
       "      <td>matthemes</td>\n",
       "      <td>1.592144e+09</td>\n",
       "      <td>r/london</td>\n",
       "      <td>...</td>\n",
       "      <td>0.8065</td>\n",
       "      <td>0.0</td>\n",
       "      <td>0.658</td>\n",
       "      <td>0.342</td>\n",
       "      <td>NaN</td>\n",
       "      <td>NaN</td>\n",
       "      <td>NaN</td>\n",
       "      <td>NaN</td>\n",
       "      <td>NaN</td>\n",
       "      <td>NaN</td>\n",
       "    </tr>\n",
       "  </tbody>\n",
       "</table>\n",
       "<p>3 rows × 26 columns</p>\n",
       "</div>"
      ],
      "text/plain": [
       "        id     id.1        name  score   parent_id  depth  \\\n",
       "0  fur7bzl  fur7bzl  t1_fur7bzl    3.0   t3_h8fk3v    0.0   \n",
       "1  fus2nh0  fus2nh0  t1_fus2nh0    3.0   t3_h8fk3v    0.0   \n",
       "2  fusv09n  fusv09n  t1_fusv09n    2.0  t1_fur7bzl    1.0   \n",
       "\n",
       "                                                body       author  \\\n",
       "0  Just moved to London 2 weeks ago and was cycli...  Derpitsmike   \n",
       "1  Get there early enough in the morning, 5ish,an...          NaN   \n",
       "2  Love how in London there's so much random hist...    matthemes   \n",
       "\n",
       "    created_utc subreddit_name_prefixed  ... vader_compound  vader_neg  \\\n",
       "0  1.592095e+09                r/london  ...         0.9136        0.0   \n",
       "1  1.592118e+09                r/london  ...         0.3182        0.0   \n",
       "2  1.592144e+09                r/london  ...         0.8065        0.0   \n",
       "\n",
       "  vader_neu vader_pos  google_name  google_sentiment_score  \\\n",
       "0     0.785     0.215      fur7bzl                     0.3   \n",
       "1     0.901     0.099      fus2nh0                     0.6   \n",
       "2     0.658     0.342          NaN                     NaN   \n",
       "\n",
       "   google_sentiment_magnitude  whatson_name  whatson_sentiment_score  \\\n",
       "0                         0.7       fur7bzl                 0.821724   \n",
       "1                         0.6       fus2nh0                -0.504150   \n",
       "2                         NaN           NaN                      NaN   \n",
       "\n",
       "   whatson_sentiment_label  \n",
       "0                 positive  \n",
       "1                 negative  \n",
       "2                      NaN  \n",
       "\n",
       "[3 rows x 26 columns]"
      ]
     },
     "execution_count": 11,
     "metadata": {},
     "output_type": "execute_result"
    }
   ],
   "source": [
    "df.head(3)"
   ]
  },
  {
   "cell_type": "code",
   "execution_count": null,
   "metadata": {},
   "outputs": [],
   "source": []
  },
  {
   "cell_type": "code",
   "execution_count": 12,
   "metadata": {
    "ExecuteTime": {
     "end_time": "2021-04-30T08:55:34.881526Z",
     "start_time": "2021-04-30T08:55:34.857484Z"
    }
   },
   "outputs": [],
   "source": [
    "df.set_index('name',inplace=True,drop=False)"
   ]
  },
  {
   "cell_type": "code",
   "execution_count": 14,
   "metadata": {
    "ExecuteTime": {
     "end_time": "2021-04-30T08:58:08.768675Z",
     "start_time": "2021-04-30T08:58:08.762778Z"
    }
   },
   "outputs": [
    {
     "data": {
      "text/plain": [
       "{'child_author',\n",
       " 'child_body',\n",
       " 'child_body_lenght_full',\n",
       " 'child_created_utc',\n",
       " 'child_date',\n",
       " 'child_depth',\n",
       " 'child_google_name',\n",
       " 'child_google_sentiment_magnitude',\n",
       " 'child_google_sentiment_score',\n",
       " 'child_id',\n",
       " 'child_id.1',\n",
       " 'child_name',\n",
       " 'child_objectivity_avg',\n",
       " 'child_parent_id',\n",
       " 'child_polarity_avg',\n",
       " 'child_processed_quote',\n",
       " 'child_score',\n",
       " 'child_subreddit_name_prefixed',\n",
       " 'child_tokenised_quotes',\n",
       " 'child_vader_compound',\n",
       " 'child_vader_neg',\n",
       " 'child_vader_neu',\n",
       " 'child_vader_pos',\n",
       " 'child_whatson_name',\n",
       " 'child_whatson_sentiment_label',\n",
       " 'child_whatson_sentiment_score'}"
      ]
     },
     "execution_count": 14,
     "metadata": {},
     "output_type": "execute_result"
    }
   ],
   "source": [
    "{f'child_{x}' for x in df2.columns}"
   ]
  },
  {
   "cell_type": "code",
   "execution_count": 17,
   "metadata": {
    "ExecuteTime": {
     "end_time": "2021-04-30T08:59:38.037397Z",
     "start_time": "2021-04-30T08:59:38.032800Z"
    }
   },
   "outputs": [],
   "source": [
    "df2.rename(columns={x:f'child_{x}' for x in df2.columns},inplace=True)"
   ]
  },
  {
   "cell_type": "code",
   "execution_count": 18,
   "metadata": {
    "ExecuteTime": {
     "end_time": "2021-04-30T08:59:57.039807Z",
     "start_time": "2021-04-30T08:59:57.003438Z"
    }
   },
   "outputs": [
    {
     "data": {
      "text/html": [
       "<div>\n",
       "<style scoped>\n",
       "    .dataframe tbody tr th:only-of-type {\n",
       "        vertical-align: middle;\n",
       "    }\n",
       "\n",
       "    .dataframe tbody tr th {\n",
       "        vertical-align: top;\n",
       "    }\n",
       "\n",
       "    .dataframe thead th {\n",
       "        text-align: right;\n",
       "    }\n",
       "</style>\n",
       "<table border=\"1\" class=\"dataframe\">\n",
       "  <thead>\n",
       "    <tr style=\"text-align: right;\">\n",
       "      <th></th>\n",
       "      <th>child_id</th>\n",
       "      <th>child_id.1</th>\n",
       "      <th>child_name</th>\n",
       "      <th>child_score</th>\n",
       "      <th>child_parent_id</th>\n",
       "      <th>child_depth</th>\n",
       "      <th>child_body</th>\n",
       "      <th>child_author</th>\n",
       "      <th>child_created_utc</th>\n",
       "      <th>child_subreddit_name_prefixed</th>\n",
       "      <th>...</th>\n",
       "      <th>child_vader_compound</th>\n",
       "      <th>child_vader_neg</th>\n",
       "      <th>child_vader_neu</th>\n",
       "      <th>child_vader_pos</th>\n",
       "      <th>child_google_name</th>\n",
       "      <th>child_google_sentiment_score</th>\n",
       "      <th>child_google_sentiment_magnitude</th>\n",
       "      <th>child_whatson_name</th>\n",
       "      <th>child_whatson_sentiment_score</th>\n",
       "      <th>child_whatson_sentiment_label</th>\n",
       "    </tr>\n",
       "    <tr>\n",
       "      <th>parent_id</th>\n",
       "      <th></th>\n",
       "      <th></th>\n",
       "      <th></th>\n",
       "      <th></th>\n",
       "      <th></th>\n",
       "      <th></th>\n",
       "      <th></th>\n",
       "      <th></th>\n",
       "      <th></th>\n",
       "      <th></th>\n",
       "      <th></th>\n",
       "      <th></th>\n",
       "      <th></th>\n",
       "      <th></th>\n",
       "      <th></th>\n",
       "      <th></th>\n",
       "      <th></th>\n",
       "      <th></th>\n",
       "      <th></th>\n",
       "      <th></th>\n",
       "      <th></th>\n",
       "    </tr>\n",
       "  </thead>\n",
       "  <tbody>\n",
       "    <tr>\n",
       "      <th>t3_h8fk3v</th>\n",
       "      <td>fur7bzl</td>\n",
       "      <td>fur7bzl</td>\n",
       "      <td>t1_fur7bzl</td>\n",
       "      <td>3.0</td>\n",
       "      <td>t3_h8fk3v</td>\n",
       "      <td>0.0</td>\n",
       "      <td>Just moved to London 2 weeks ago and was cycli...</td>\n",
       "      <td>Derpitsmike</td>\n",
       "      <td>1.592095e+09</td>\n",
       "      <td>r/london</td>\n",
       "      <td>...</td>\n",
       "      <td>0.9136</td>\n",
       "      <td>0.0</td>\n",
       "      <td>0.785</td>\n",
       "      <td>0.215</td>\n",
       "      <td>fur7bzl</td>\n",
       "      <td>0.3</td>\n",
       "      <td>0.7</td>\n",
       "      <td>fur7bzl</td>\n",
       "      <td>0.821724</td>\n",
       "      <td>positive</td>\n",
       "    </tr>\n",
       "    <tr>\n",
       "      <th>t3_h8fk3v</th>\n",
       "      <td>fus2nh0</td>\n",
       "      <td>fus2nh0</td>\n",
       "      <td>t1_fus2nh0</td>\n",
       "      <td>3.0</td>\n",
       "      <td>t3_h8fk3v</td>\n",
       "      <td>0.0</td>\n",
       "      <td>Get there early enough in the morning, 5ish,an...</td>\n",
       "      <td>NaN</td>\n",
       "      <td>1.592118e+09</td>\n",
       "      <td>r/london</td>\n",
       "      <td>...</td>\n",
       "      <td>0.3182</td>\n",
       "      <td>0.0</td>\n",
       "      <td>0.901</td>\n",
       "      <td>0.099</td>\n",
       "      <td>fus2nh0</td>\n",
       "      <td>0.6</td>\n",
       "      <td>0.6</td>\n",
       "      <td>fus2nh0</td>\n",
       "      <td>-0.504150</td>\n",
       "      <td>negative</td>\n",
       "    </tr>\n",
       "    <tr>\n",
       "      <th>t1_fur7bzl</th>\n",
       "      <td>fusv09n</td>\n",
       "      <td>fusv09n</td>\n",
       "      <td>t1_fusv09n</td>\n",
       "      <td>2.0</td>\n",
       "      <td>t1_fur7bzl</td>\n",
       "      <td>1.0</td>\n",
       "      <td>Love how in London there's so much random hist...</td>\n",
       "      <td>matthemes</td>\n",
       "      <td>1.592144e+09</td>\n",
       "      <td>r/london</td>\n",
       "      <td>...</td>\n",
       "      <td>0.8065</td>\n",
       "      <td>0.0</td>\n",
       "      <td>0.658</td>\n",
       "      <td>0.342</td>\n",
       "      <td>NaN</td>\n",
       "      <td>NaN</td>\n",
       "      <td>NaN</td>\n",
       "      <td>NaN</td>\n",
       "      <td>NaN</td>\n",
       "      <td>NaN</td>\n",
       "    </tr>\n",
       "  </tbody>\n",
       "</table>\n",
       "<p>3 rows × 26 columns</p>\n",
       "</div>"
      ],
      "text/plain": [
       "           child_id child_id.1  child_name  child_score child_parent_id  \\\n",
       "parent_id                                                                 \n",
       "t3_h8fk3v   fur7bzl    fur7bzl  t1_fur7bzl          3.0       t3_h8fk3v   \n",
       "t3_h8fk3v   fus2nh0    fus2nh0  t1_fus2nh0          3.0       t3_h8fk3v   \n",
       "t1_fur7bzl  fusv09n    fusv09n  t1_fusv09n          2.0      t1_fur7bzl   \n",
       "\n",
       "            child_depth                                         child_body  \\\n",
       "parent_id                                                                    \n",
       "t3_h8fk3v           0.0  Just moved to London 2 weeks ago and was cycli...   \n",
       "t3_h8fk3v           0.0  Get there early enough in the morning, 5ish,an...   \n",
       "t1_fur7bzl          1.0  Love how in London there's so much random hist...   \n",
       "\n",
       "           child_author  child_created_utc child_subreddit_name_prefixed  ...  \\\n",
       "parent_id                                                                 ...   \n",
       "t3_h8fk3v   Derpitsmike       1.592095e+09                      r/london  ...   \n",
       "t3_h8fk3v           NaN       1.592118e+09                      r/london  ...   \n",
       "t1_fur7bzl    matthemes       1.592144e+09                      r/london  ...   \n",
       "\n",
       "           child_vader_compound  child_vader_neg child_vader_neu  \\\n",
       "parent_id                                                          \n",
       "t3_h8fk3v                0.9136              0.0           0.785   \n",
       "t3_h8fk3v                0.3182              0.0           0.901   \n",
       "t1_fur7bzl               0.8065              0.0           0.658   \n",
       "\n",
       "           child_vader_pos  child_google_name  child_google_sentiment_score  \\\n",
       "parent_id                                                                     \n",
       "t3_h8fk3v            0.215            fur7bzl                           0.3   \n",
       "t3_h8fk3v            0.099            fus2nh0                           0.6   \n",
       "t1_fur7bzl           0.342                NaN                           NaN   \n",
       "\n",
       "            child_google_sentiment_magnitude  child_whatson_name  \\\n",
       "parent_id                                                          \n",
       "t3_h8fk3v                                0.7             fur7bzl   \n",
       "t3_h8fk3v                                0.6             fus2nh0   \n",
       "t1_fur7bzl                               NaN                 NaN   \n",
       "\n",
       "            child_whatson_sentiment_score  child_whatson_sentiment_label  \n",
       "parent_id                                                                 \n",
       "t3_h8fk3v                        0.821724                       positive  \n",
       "t3_h8fk3v                       -0.504150                       negative  \n",
       "t1_fur7bzl                            NaN                            NaN  \n",
       "\n",
       "[3 rows x 26 columns]"
      ]
     },
     "execution_count": 18,
     "metadata": {},
     "output_type": "execute_result"
    }
   ],
   "source": [
    "df2.head(3)"
   ]
  },
  {
   "cell_type": "code",
   "execution_count": null,
   "metadata": {},
   "outputs": [],
   "source": []
  },
  {
   "cell_type": "code",
   "execution_count": 19,
   "metadata": {
    "ExecuteTime": {
     "end_time": "2021-04-30T09:01:38.174444Z",
     "start_time": "2021-04-30T09:01:36.073338Z"
    }
   },
   "outputs": [],
   "source": [
    "df_final = df.merge(df2,left_index=True, right_index=True, how='left')"
   ]
  },
  {
   "cell_type": "code",
   "execution_count": null,
   "metadata": {},
   "outputs": [],
   "source": []
  },
  {
   "cell_type": "code",
   "execution_count": 21,
   "metadata": {
    "ExecuteTime": {
     "end_time": "2021-04-30T09:02:28.541798Z",
     "start_time": "2021-04-30T09:02:27.852804Z"
    }
   },
   "outputs": [
    {
     "name": "stdout",
     "output_type": "stream",
     "text": [
      "<class 'pandas.core.frame.DataFrame'>\n",
      "Index: 440487 entries, t1_fcllq9v to t1_guvwlce\n",
      "Data columns (total 52 columns):\n",
      " #   Column                            Non-Null Count   Dtype  \n",
      "---  ------                            --------------   -----  \n",
      " 0   id                                440487 non-null  object \n",
      " 1   id.1                              440487 non-null  object \n",
      " 2   name                              440487 non-null  object \n",
      " 3   score                             440487 non-null  float64\n",
      " 4   parent_id                         440487 non-null  object \n",
      " 5   depth                             440487 non-null  float64\n",
      " 6   body                              440487 non-null  object \n",
      " 7   author                            416977 non-null  object \n",
      " 8   created_utc                       440487 non-null  float64\n",
      " 9   subreddit_name_prefixed           440487 non-null  object \n",
      " 10  date                              440487 non-null  object \n",
      " 11  body_lenght_full                  440487 non-null  int64  \n",
      " 12  processed_quote                   437571 non-null  object \n",
      " 13  tokenised_quotes                  440487 non-null  object \n",
      " 14  objectivity_avg                   440487 non-null  float64\n",
      " 15  polarity_avg                      440487 non-null  float64\n",
      " 16  vader_compound                    440487 non-null  float64\n",
      " 17  vader_neg                         440487 non-null  float64\n",
      " 18  vader_neu                         440487 non-null  float64\n",
      " 19  vader_pos                         440487 non-null  float64\n",
      " 20  google_name                       63103 non-null   object \n",
      " 21  google_sentiment_score            63103 non-null   float64\n",
      " 22  google_sentiment_magnitude        63103 non-null   float64\n",
      " 23  whatson_name                      63103 non-null   object \n",
      " 24  whatson_sentiment_score           63103 non-null   float64\n",
      " 25  whatson_sentiment_label           63103 non-null   object \n",
      " 26  child_id                          188224 non-null  object \n",
      " 27  child_id.1                        188224 non-null  object \n",
      " 28  child_name                        188224 non-null  object \n",
      " 29  child_score                       188224 non-null  float64\n",
      " 30  child_parent_id                   188224 non-null  object \n",
      " 31  child_depth                       188224 non-null  float64\n",
      " 32  child_body                        188224 non-null  object \n",
      " 33  child_author                      177657 non-null  object \n",
      " 34  child_created_utc                 188224 non-null  float64\n",
      " 35  child_subreddit_name_prefixed     188224 non-null  object \n",
      " 36  child_date                        188224 non-null  object \n",
      " 37  child_body_lenght_full            188224 non-null  float64\n",
      " 38  child_processed_quote             187077 non-null  object \n",
      " 39  child_tokenised_quotes            188224 non-null  object \n",
      " 40  child_objectivity_avg             188224 non-null  float64\n",
      " 41  child_polarity_avg                188224 non-null  float64\n",
      " 42  child_vader_compound              188224 non-null  float64\n",
      " 43  child_vader_neg                   188224 non-null  float64\n",
      " 44  child_vader_neu                   188224 non-null  float64\n",
      " 45  child_vader_pos                   188224 non-null  float64\n",
      " 46  child_google_name                 26740 non-null   object \n",
      " 47  child_google_sentiment_score      26740 non-null   float64\n",
      " 48  child_google_sentiment_magnitude  26740 non-null   float64\n",
      " 49  child_whatson_name                26740 non-null   object \n",
      " 50  child_whatson_sentiment_score     26740 non-null   float64\n",
      " 51  child_whatson_sentiment_label     26740 non-null   object \n",
      "dtypes: float64(25), int64(1), object(26)\n",
      "memory usage: 178.1+ MB\n"
     ]
    }
   ],
   "source": [
    "df_final.info()"
   ]
  },
  {
   "cell_type": "code",
   "execution_count": 22,
   "metadata": {
    "ExecuteTime": {
     "end_time": "2021-04-30T09:04:38.859432Z",
     "start_time": "2021-04-30T09:04:24.959551Z"
    }
   },
   "outputs": [],
   "source": [
    "df_final.to_csv('/Users/eoinkeaney/Desktop/Cap_Stone_Data/full_final_comment_ver_1_30-4-2021.csv')"
   ]
  },
  {
   "cell_type": "code",
   "execution_count": null,
   "metadata": {},
   "outputs": [],
   "source": []
  },
  {
   "cell_type": "code",
   "execution_count": 23,
   "metadata": {
    "ExecuteTime": {
     "end_time": "2021-04-30T09:05:55.061791Z",
     "start_time": "2021-04-30T09:05:54.631351Z"
    }
   },
   "outputs": [],
   "source": [
    "df_filtered = df_final.dropna()"
   ]
  },
  {
   "cell_type": "code",
   "execution_count": 24,
   "metadata": {
    "ExecuteTime": {
     "end_time": "2021-04-30T09:06:07.254567Z",
     "start_time": "2021-04-30T09:06:07.180309Z"
    }
   },
   "outputs": [
    {
     "name": "stdout",
     "output_type": "stream",
     "text": [
      "<class 'pandas.core.frame.DataFrame'>\n",
      "Index: 23077 entries, t1_fcop483 to t1_ghdvh7m\n",
      "Data columns (total 52 columns):\n",
      " #   Column                            Non-Null Count  Dtype  \n",
      "---  ------                            --------------  -----  \n",
      " 0   id                                23077 non-null  object \n",
      " 1   id.1                              23077 non-null  object \n",
      " 2   name                              23077 non-null  object \n",
      " 3   score                             23077 non-null  float64\n",
      " 4   parent_id                         23077 non-null  object \n",
      " 5   depth                             23077 non-null  float64\n",
      " 6   body                              23077 non-null  object \n",
      " 7   author                            23077 non-null  object \n",
      " 8   created_utc                       23077 non-null  float64\n",
      " 9   subreddit_name_prefixed           23077 non-null  object \n",
      " 10  date                              23077 non-null  object \n",
      " 11  body_lenght_full                  23077 non-null  int64  \n",
      " 12  processed_quote                   23077 non-null  object \n",
      " 13  tokenised_quotes                  23077 non-null  object \n",
      " 14  objectivity_avg                   23077 non-null  float64\n",
      " 15  polarity_avg                      23077 non-null  float64\n",
      " 16  vader_compound                    23077 non-null  float64\n",
      " 17  vader_neg                         23077 non-null  float64\n",
      " 18  vader_neu                         23077 non-null  float64\n",
      " 19  vader_pos                         23077 non-null  float64\n",
      " 20  google_name                       23077 non-null  object \n",
      " 21  google_sentiment_score            23077 non-null  float64\n",
      " 22  google_sentiment_magnitude        23077 non-null  float64\n",
      " 23  whatson_name                      23077 non-null  object \n",
      " 24  whatson_sentiment_score           23077 non-null  float64\n",
      " 25  whatson_sentiment_label           23077 non-null  object \n",
      " 26  child_id                          23077 non-null  object \n",
      " 27  child_id.1                        23077 non-null  object \n",
      " 28  child_name                        23077 non-null  object \n",
      " 29  child_score                       23077 non-null  float64\n",
      " 30  child_parent_id                   23077 non-null  object \n",
      " 31  child_depth                       23077 non-null  float64\n",
      " 32  child_body                        23077 non-null  object \n",
      " 33  child_author                      23077 non-null  object \n",
      " 34  child_created_utc                 23077 non-null  float64\n",
      " 35  child_subreddit_name_prefixed     23077 non-null  object \n",
      " 36  child_date                        23077 non-null  object \n",
      " 37  child_body_lenght_full            23077 non-null  float64\n",
      " 38  child_processed_quote             23077 non-null  object \n",
      " 39  child_tokenised_quotes            23077 non-null  object \n",
      " 40  child_objectivity_avg             23077 non-null  float64\n",
      " 41  child_polarity_avg                23077 non-null  float64\n",
      " 42  child_vader_compound              23077 non-null  float64\n",
      " 43  child_vader_neg                   23077 non-null  float64\n",
      " 44  child_vader_neu                   23077 non-null  float64\n",
      " 45  child_vader_pos                   23077 non-null  float64\n",
      " 46  child_google_name                 23077 non-null  object \n",
      " 47  child_google_sentiment_score      23077 non-null  float64\n",
      " 48  child_google_sentiment_magnitude  23077 non-null  float64\n",
      " 49  child_whatson_name                23077 non-null  object \n",
      " 50  child_whatson_sentiment_score     23077 non-null  float64\n",
      " 51  child_whatson_sentiment_label     23077 non-null  object \n",
      "dtypes: float64(25), int64(1), object(26)\n",
      "memory usage: 9.3+ MB\n"
     ]
    }
   ],
   "source": [
    "df_filtered.info()"
   ]
  },
  {
   "cell_type": "code",
   "execution_count": 31,
   "metadata": {
    "ExecuteTime": {
     "end_time": "2021-04-30T09:10:39.763356Z",
     "start_time": "2021-04-30T09:10:39.737023Z"
    }
   },
   "outputs": [
    {
     "data": {
      "text/html": [
       "<div>\n",
       "<style scoped>\n",
       "    .dataframe tbody tr th:only-of-type {\n",
       "        vertical-align: middle;\n",
       "    }\n",
       "\n",
       "    .dataframe tbody tr th {\n",
       "        vertical-align: top;\n",
       "    }\n",
       "\n",
       "    .dataframe thead th {\n",
       "        text-align: right;\n",
       "    }\n",
       "</style>\n",
       "<table border=\"1\" class=\"dataframe\">\n",
       "  <thead>\n",
       "    <tr style=\"text-align: right;\">\n",
       "      <th></th>\n",
       "      <th>child_objectivity_avg</th>\n",
       "      <th>child_polarity_avg</th>\n",
       "      <th>child_vader_compound</th>\n",
       "      <th>child_vader_neg</th>\n",
       "      <th>child_vader_neu</th>\n",
       "      <th>child_vader_pos</th>\n",
       "      <th>child_google_name</th>\n",
       "      <th>child_google_sentiment_score</th>\n",
       "      <th>child_google_sentiment_magnitude</th>\n",
       "      <th>child_whatson_name</th>\n",
       "      <th>child_whatson_sentiment_score</th>\n",
       "      <th>child_whatson_sentiment_label</th>\n",
       "    </tr>\n",
       "  </thead>\n",
       "  <tbody>\n",
       "    <tr>\n",
       "      <th>t1_fcop483</th>\n",
       "      <td>0.736069</td>\n",
       "      <td>0.095544</td>\n",
       "      <td>-0.1128</td>\n",
       "      <td>0.116</td>\n",
       "      <td>0.785</td>\n",
       "      <td>0.098</td>\n",
       "      <td>fcoqzvq</td>\n",
       "      <td>-0.4</td>\n",
       "      <td>1.3</td>\n",
       "      <td>fcoqzvq</td>\n",
       "      <td>-0.534851</td>\n",
       "      <td>negative</td>\n",
       "    </tr>\n",
       "    <tr>\n",
       "      <th>t1_fcopjx3</th>\n",
       "      <td>0.845276</td>\n",
       "      <td>-0.111322</td>\n",
       "      <td>-0.2263</td>\n",
       "      <td>0.179</td>\n",
       "      <td>0.694</td>\n",
       "      <td>0.127</td>\n",
       "      <td>fcopp48</td>\n",
       "      <td>-0.7</td>\n",
       "      <td>1.4</td>\n",
       "      <td>fcopp48</td>\n",
       "      <td>-0.931336</td>\n",
       "      <td>negative</td>\n",
       "    </tr>\n",
       "    <tr>\n",
       "      <th>t1_fcopp48</th>\n",
       "      <td>0.752655</td>\n",
       "      <td>-0.107333</td>\n",
       "      <td>-0.4215</td>\n",
       "      <td>0.087</td>\n",
       "      <td>0.913</td>\n",
       "      <td>0.000</td>\n",
       "      <td>fcoqks6</td>\n",
       "      <td>-0.8</td>\n",
       "      <td>0.8</td>\n",
       "      <td>fcoqks6</td>\n",
       "      <td>-0.900350</td>\n",
       "      <td>negative</td>\n",
       "    </tr>\n",
       "    <tr>\n",
       "      <th>t1_fcoqks6</th>\n",
       "      <td>0.763889</td>\n",
       "      <td>-0.208333</td>\n",
       "      <td>-0.3802</td>\n",
       "      <td>0.228</td>\n",
       "      <td>0.667</td>\n",
       "      <td>0.105</td>\n",
       "      <td>fcoqqke</td>\n",
       "      <td>-0.3</td>\n",
       "      <td>1.0</td>\n",
       "      <td>fcoqqke</td>\n",
       "      <td>-0.907705</td>\n",
       "      <td>negative</td>\n",
       "    </tr>\n",
       "    <tr>\n",
       "      <th>t1_fcoqy8a</th>\n",
       "      <td>0.875000</td>\n",
       "      <td>0.011364</td>\n",
       "      <td>0.0000</td>\n",
       "      <td>0.000</td>\n",
       "      <td>1.000</td>\n",
       "      <td>0.000</td>\n",
       "      <td>fcor3o6</td>\n",
       "      <td>-0.3</td>\n",
       "      <td>0.8</td>\n",
       "      <td>fcor3o6</td>\n",
       "      <td>0.705471</td>\n",
       "      <td>positive</td>\n",
       "    </tr>\n",
       "  </tbody>\n",
       "</table>\n",
       "</div>"
      ],
      "text/plain": [
       "            child_objectivity_avg  child_polarity_avg  child_vader_compound  \\\n",
       "t1_fcop483               0.736069            0.095544               -0.1128   \n",
       "t1_fcopjx3               0.845276           -0.111322               -0.2263   \n",
       "t1_fcopp48               0.752655           -0.107333               -0.4215   \n",
       "t1_fcoqks6               0.763889           -0.208333               -0.3802   \n",
       "t1_fcoqy8a               0.875000            0.011364                0.0000   \n",
       "\n",
       "            child_vader_neg  child_vader_neu  child_vader_pos  \\\n",
       "t1_fcop483            0.116            0.785            0.098   \n",
       "t1_fcopjx3            0.179            0.694            0.127   \n",
       "t1_fcopp48            0.087            0.913            0.000   \n",
       "t1_fcoqks6            0.228            0.667            0.105   \n",
       "t1_fcoqy8a            0.000            1.000            0.000   \n",
       "\n",
       "           child_google_name  child_google_sentiment_score  \\\n",
       "t1_fcop483           fcoqzvq                          -0.4   \n",
       "t1_fcopjx3           fcopp48                          -0.7   \n",
       "t1_fcopp48           fcoqks6                          -0.8   \n",
       "t1_fcoqks6           fcoqqke                          -0.3   \n",
       "t1_fcoqy8a           fcor3o6                          -0.3   \n",
       "\n",
       "            child_google_sentiment_magnitude child_whatson_name  \\\n",
       "t1_fcop483                               1.3            fcoqzvq   \n",
       "t1_fcopjx3                               1.4            fcopp48   \n",
       "t1_fcopp48                               0.8            fcoqks6   \n",
       "t1_fcoqks6                               1.0            fcoqqke   \n",
       "t1_fcoqy8a                               0.8            fcor3o6   \n",
       "\n",
       "            child_whatson_sentiment_score child_whatson_sentiment_label  \n",
       "t1_fcop483                      -0.534851                      negative  \n",
       "t1_fcopjx3                      -0.931336                      negative  \n",
       "t1_fcopp48                      -0.900350                      negative  \n",
       "t1_fcoqks6                      -0.907705                      negative  \n",
       "t1_fcoqy8a                       0.705471                      positive  "
      ]
     },
     "execution_count": 31,
     "metadata": {},
     "output_type": "execute_result"
    }
   ],
   "source": [
    "df_filtered.iloc[:,40:52].head()"
   ]
  },
  {
   "cell_type": "code",
   "execution_count": 33,
   "metadata": {
    "ExecuteTime": {
     "end_time": "2021-04-30T09:16:03.662026Z",
     "start_time": "2021-04-30T09:16:03.655317Z"
    }
   },
   "outputs": [],
   "source": [
    "Target_col_full = ['name','score','parent_id','depth','body','author','created_utc','subreddit_name_prefixed','date','body_lenght_full','processed_quote','tokenised_quotes','objectivity_avg','polarity_avg','vader_compound','vader_neg','vader_neu','vader_pos',\n",
    "'google_sentiment_score','google_sentiment_magnitude','whatson_sentiment_score','whatson_sentiment_label','child_name','child_score','child_parent_id','child_depth','child_body','child_author','child_created_utc','child_date','child_body_lenght_full','child_processed_quote','child_tokenised_quotes',\n",
    "'child_objectivity_avg','child_polarity_avg','child_vader_compound','child_vader_neg','child_vader_neu','child_vader_pos','child_google_sentiment_score','child_google_sentiment_magnitude','child_whatson_sentiment_score','child_whatson_sentiment_label']"
   ]
  },
  {
   "cell_type": "code",
   "execution_count": 35,
   "metadata": {
    "ExecuteTime": {
     "end_time": "2021-04-30T09:17:40.975257Z",
     "start_time": "2021-04-30T09:17:39.955410Z"
    }
   },
   "outputs": [],
   "source": [
    "df_filtered[Target_col_full].to_csv('/Users/eoinkeaney/Desktop/Cap_Stone_Data/filtered_final_comment_ver_1_30-4-2021.csv')"
   ]
  },
  {
   "cell_type": "code",
   "execution_count": null,
   "metadata": {},
   "outputs": [],
   "source": []
  },
  {
   "cell_type": "code",
   "execution_count": 27,
   "metadata": {
    "ExecuteTime": {
     "end_time": "2021-04-30T09:08:28.652420Z",
     "start_time": "2021-04-30T09:08:28.635193Z"
    }
   },
   "outputs": [
    {
     "data": {
      "text/plain": [
       "r/london        13673\n",
       "r/glasgow        4116\n",
       "r/Edinburgh      2331\n",
       "r/manchester      889\n",
       "r/Leeds           773\n",
       "r/Cardiff         688\n",
       "r/Liverpool       607\n",
       "Name: subreddit_name_prefixed, dtype: int64"
      ]
     },
     "execution_count": 27,
     "metadata": {},
     "output_type": "execute_result"
    }
   ],
   "source": []
  },
  {
   "cell_type": "code",
   "execution_count": null,
   "metadata": {},
   "outputs": [],
   "source": []
  }
 ],
 "metadata": {
  "kernelspec": {
   "display_name": "Python 3",
   "language": "python",
   "name": "python3"
  },
  "language_info": {
   "codemirror_mode": {
    "name": "ipython",
    "version": 3
   },
   "file_extension": ".py",
   "mimetype": "text/x-python",
   "name": "python",
   "nbconvert_exporter": "python",
   "pygments_lexer": "ipython3",
   "version": "3.8.5"
  },
  "varInspector": {
   "cols": {
    "lenName": 16,
    "lenType": 16,
    "lenVar": 40
   },
   "kernels_config": {
    "python": {
     "delete_cmd_postfix": "",
     "delete_cmd_prefix": "del ",
     "library": "var_list.py",
     "varRefreshCmd": "print(var_dic_list())"
    },
    "r": {
     "delete_cmd_postfix": ") ",
     "delete_cmd_prefix": "rm(",
     "library": "var_list.r",
     "varRefreshCmd": "cat(var_dic_list()) "
    }
   },
   "types_to_exclude": [
    "module",
    "function",
    "builtin_function_or_method",
    "instance",
    "_Feature"
   ],
   "window_display": false
  }
 },
 "nbformat": 4,
 "nbformat_minor": 4
}
