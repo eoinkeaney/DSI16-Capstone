{
 "cells": [
  {
   "cell_type": "code",
   "execution_count": null,
   "metadata": {},
   "outputs": [],
   "source": []
  },
  {
   "cell_type": "code",
   "execution_count": 2,
   "metadata": {
    "ExecuteTime": {
     "end_time": "2021-04-29T14:13:31.808167Z",
     "start_time": "2021-04-29T14:13:31.663361Z"
    }
   },
   "outputs": [],
   "source": [
    "import json\n",
    "from ibm_watson import NaturalLanguageUnderstandingV1\n",
    "from ibm_cloud_sdk_core.authenticators import IAMAuthenticator\n",
    "from ibm_watson.natural_language_understanding_v1 import Features, SentimentOptions"
   ]
  },
  {
   "cell_type": "code",
   "execution_count": 80,
   "metadata": {
    "ExecuteTime": {
     "end_time": "2021-04-29T19:40:40.958037Z",
     "start_time": "2021-04-29T19:40:40.953543Z"
    }
   },
   "outputs": [],
   "source": [
    "authenticator = IAMAuthenticator('qugoD7zPgsEaMBKOU8O5Q_p9xQs-jglN4vuUdziyk5rc')\n",
    "natural_language_understanding = NaturalLanguageUnderstandingV1(\n",
    "    version='2020-08-01',\n",
    "    authenticator=authenticator\n",
    ")"
   ]
  },
  {
   "cell_type": "code",
   "execution_count": 81,
   "metadata": {
    "ExecuteTime": {
     "end_time": "2021-04-29T19:40:53.107667Z",
     "start_time": "2021-04-29T19:40:48.468050Z"
    }
   },
   "outputs": [
    {
     "name": "stdout",
     "output_type": "stream",
     "text": [
      "{\n",
      "  \"usage\": {\n",
      "    \"text_units\": 1,\n",
      "    \"text_characters\": 427,\n",
      "    \"features\": 1\n",
      "  },\n",
      "  \"sentiment\": {\n",
      "    \"targets\": [\n",
      "      {\n",
      "        \"text\": \"stocks\",\n",
      "        \"score\": 0.838423,\n",
      "        \"label\": \"positive\"\n",
      "      }\n",
      "    ],\n",
      "    \"document\": {\n",
      "      \"score\": 0.538995,\n",
      "      \"label\": \"positive\"\n",
      "    }\n",
      "  },\n",
      "  \"retrieved_url\": \"https://www.wsj.com/news/markets\",\n",
      "  \"language\": \"en\"\n",
      "}\n"
     ]
    }
   ],
   "source": [
    "\n",
    "\n",
    "authenticator = IAMAuthenticator('qugoD7zPgsEaMBKOU8O5Q_p9xQs-jglN4vuUdziyk5rc')\n",
    "natural_language_understanding = NaturalLanguageUnderstandingV1(\n",
    "    version='2020-08-01',\n",
    "    authenticator=authenticator\n",
    ")\n",
    "\n",
    "natural_language_understanding.set_service_url('https://api.eu-gb.natural-language-understanding.watson.cloud.ibm.com/instances/cc87166b-2d51-4225-bae2-00b60592ba32')\n",
    "\n",
    "response = natural_language_understanding.analyze(\n",
    "    url='www.wsj.com/news/markets',\n",
    "    features=Features(sentiment=SentimentOptions(targets=['stocks']))).get_result()\n",
    "\n",
    "print(json.dumps(response, indent=2))"
   ]
  },
  {
   "cell_type": "code",
   "execution_count": 7,
   "metadata": {
    "ExecuteTime": {
     "end_time": "2021-04-29T14:24:24.288888Z",
     "start_time": "2021-04-29T14:24:24.283258Z"
    }
   },
   "outputs": [],
   "source": [
    "from ibm_watson.natural_language_understanding_v1 import Features, EntitiesOptions, KeywordsOptions"
   ]
  },
  {
   "cell_type": "code",
   "execution_count": 87,
   "metadata": {
    "ExecuteTime": {
     "end_time": "2021-04-29T19:44:37.784732Z",
     "start_time": "2021-04-29T19:44:37.332952Z"
    }
   },
   "outputs": [
    {
     "data": {
      "text/plain": [
       "({'usage': {'text_units': 1, 'text_characters': 140, 'features': 1},\n",
       "  'sentiment': {'document': {'score': 0, 'label': 'neutral'}},\n",
       "  'language': 'en'},)"
      ]
     },
     "execution_count": 87,
     "metadata": {},
     "output_type": "execute_result"
    }
   ],
   "source": [
    "response = natural_language_understanding.analyze(\n",
    "    text='IBM is an American multinational technology company '\n",
    "    'headquartered in Armonk, New York, United States, '\n",
    "    'with operations in over 170 countries.',\n",
    "    features=Features(sentiment=SentimentOptions())).get_result(),\n",
    "response"
   ]
  },
  {
   "cell_type": "code",
   "execution_count": 83,
   "metadata": {
    "ExecuteTime": {
     "end_time": "2021-04-29T19:41:13.692678Z",
     "start_time": "2021-04-29T19:41:13.676362Z"
    }
   },
   "outputs": [
    {
     "ename": "TypeError",
     "evalue": "string indices must be integers",
     "output_type": "error",
     "traceback": [
      "\u001b[0;31m---------------------------------------------------------------------------\u001b[0m",
      "\u001b[0;31mTypeError\u001b[0m                                 Traceback (most recent call last)",
      "\u001b[0;32m<ipython-input-83-eafd0ed3a7ed>\u001b[0m in \u001b[0;36m<module>\u001b[0;34m\u001b[0m\n\u001b[0;32m----> 1\u001b[0;31m \u001b[0mjson\u001b[0m\u001b[0;34m.\u001b[0m\u001b[0mdumps\u001b[0m\u001b[0;34m(\u001b[0m\u001b[0mresponse\u001b[0m\u001b[0;34m)\u001b[0m\u001b[0;34m[\u001b[0m\u001b[0;34m'sentiment'\u001b[0m\u001b[0;34m]\u001b[0m\u001b[0;34m\u001b[0m\u001b[0;34m\u001b[0m\u001b[0m\n\u001b[0m",
      "\u001b[0;31mTypeError\u001b[0m: string indices must be integers"
     ]
    }
   ],
   "source": [
    "json.dumps(response)['sentiment']"
   ]
  },
  {
   "cell_type": "code",
   "execution_count": 84,
   "metadata": {
    "ExecuteTime": {
     "end_time": "2021-04-29T19:41:17.989823Z",
     "start_time": "2021-04-29T19:41:17.981067Z"
    }
   },
   "outputs": [
    {
     "data": {
      "text/plain": [
       "0"
      ]
     },
     "execution_count": 84,
     "metadata": {},
     "output_type": "execute_result"
    }
   ],
   "source": [
    "response[0]['sentiment']['document']['score']"
   ]
  },
  {
   "cell_type": "code",
   "execution_count": 85,
   "metadata": {
    "ExecuteTime": {
     "end_time": "2021-04-29T19:41:20.251984Z",
     "start_time": "2021-04-29T19:41:20.244044Z"
    }
   },
   "outputs": [
    {
     "data": {
      "text/plain": [
       "'neutral'"
      ]
     },
     "execution_count": 85,
     "metadata": {},
     "output_type": "execute_result"
    }
   ],
   "source": [
    "response[0]['sentiment']['document']['label']"
   ]
  },
  {
   "cell_type": "code",
   "execution_count": 86,
   "metadata": {
    "ExecuteTime": {
     "end_time": "2021-04-29T19:41:25.691269Z",
     "start_time": "2021-04-29T19:41:25.673458Z"
    }
   },
   "outputs": [
    {
     "ename": "TypeError",
     "evalue": "tuple indices must be integers or slices, not str",
     "output_type": "error",
     "traceback": [
      "\u001b[0;31m---------------------------------------------------------------------------\u001b[0m",
      "\u001b[0;31mTypeError\u001b[0m                                 Traceback (most recent call last)",
      "\u001b[0;32m<ipython-input-86-8846b7ca7d45>\u001b[0m in \u001b[0;36m<module>\u001b[0;34m\u001b[0m\n\u001b[0;32m----> 1\u001b[0;31m \u001b[0mresponse\u001b[0m\u001b[0;34m[\u001b[0m\u001b[0;34m'sentiment'\u001b[0m\u001b[0;34m]\u001b[0m\u001b[0;34m[\u001b[0m\u001b[0;34m'document'\u001b[0m\u001b[0;34m]\u001b[0m\u001b[0;34m[\u001b[0m\u001b[0;34m'label'\u001b[0m\u001b[0;34m]\u001b[0m\u001b[0;34m\u001b[0m\u001b[0;34m\u001b[0m\u001b[0m\n\u001b[0m",
      "\u001b[0;31mTypeError\u001b[0m: tuple indices must be integers or slices, not str"
     ]
    }
   ],
   "source": [
    "response['sentiment']['document']['label']"
   ]
  },
  {
   "cell_type": "code",
   "execution_count": null,
   "metadata": {},
   "outputs": [],
   "source": []
  },
  {
   "cell_type": "code",
   "execution_count": null,
   "metadata": {},
   "outputs": [],
   "source": []
  },
  {
   "cell_type": "code",
   "execution_count": 25,
   "metadata": {
    "ExecuteTime": {
     "end_time": "2021-04-29T14:36:29.734947Z",
     "start_time": "2021-04-29T14:36:28.887030Z"
    }
   },
   "outputs": [],
   "source": [
    "import numpy as np\n",
    "import pandas as pd\n",
    "import matplotlib.pyplot as plt\n",
    "from matplotlib import cm\n",
    "import seaborn as sns\n",
    "import networkx as nx\n",
    "\n",
    "plt.style.use('ggplot')\n",
    "%matplotlib inline\n",
    "%config InlineBackend.figure_format = 'retina'"
   ]
  },
  {
   "cell_type": "code",
   "execution_count": 26,
   "metadata": {
    "ExecuteTime": {
     "end_time": "2021-04-29T14:36:30.853845Z",
     "start_time": "2021-04-29T14:36:29.743065Z"
    }
   },
   "outputs": [],
   "source": [
    "df2 = pd.read_csv('/Users/eoinkeaney/Desktop/Cap_Stone_Data/comm_sentament_vader_score_filtered_ver_5_28-4-2021.csv')"
   ]
  },
  {
   "cell_type": "code",
   "execution_count": 34,
   "metadata": {
    "ExecuteTime": {
     "end_time": "2021-04-29T14:38:15.394509Z",
     "start_time": "2021-04-29T14:38:15.390502Z"
    }
   },
   "outputs": [],
   "source": [
    "whatson_results = []"
   ]
  },
  {
   "cell_type": "code",
   "execution_count": null,
   "metadata": {},
   "outputs": [],
   "source": []
  },
  {
   "cell_type": "code",
   "execution_count": 35,
   "metadata": {
    "ExecuteTime": {
     "end_time": "2021-04-29T14:38:27.638352Z",
     "start_time": "2021-04-29T14:38:27.635338Z"
    }
   },
   "outputs": [],
   "source": [
    "from IPython.display import clear_output"
   ]
  },
  {
   "cell_type": "code",
   "execution_count": 102,
   "metadata": {
    "ExecuteTime": {
     "end_time": "2021-04-29T21:26:14.767853Z",
     "start_time": "2021-04-29T20:53:44.497538Z"
    }
   },
   "outputs": [
    {
     "name": "stdout",
     "output_type": "stream",
     "text": [
      "4731  -  4732\n",
      "49984\n"
     ]
    }
   ],
   "source": [
    "range_start = 45268\n",
    "range_stop = 50000\n",
    "\n",
    "total = range_stop - range_start\n",
    "count = 0\n",
    "for row in df2.iloc[range_start:range_stop].iterrows():\n",
    "    clear_output(wait=True)\n",
    "    print(count,' - ', total)\n",
    "    count = count + 1\n",
    "    try:\n",
    "        response = natural_language_understanding.analyze(text=row[1].body,features=Features(sentiment=SentimentOptions())).get_result()\n",
    "        whatson_results.append([row[1].id,response['sentiment']['document']['score'],response['sentiment']['document']['label']])\n",
    "    except:\n",
    "        print(row[1].id,row[1].body)\n",
    "print(len(whatson_results))"
   ]
  },
  {
   "cell_type": "code",
   "execution_count": 103,
   "metadata": {
    "ExecuteTime": {
     "end_time": "2021-04-29T21:26:25.714622Z",
     "start_time": "2021-04-29T21:26:25.568659Z"
    }
   },
   "outputs": [],
   "source": [
    "pd.DataFrame(whatson_results).to_csv('/Users/eoinkeaney/Desktop/Cap_Stone_Data/whatson_results_ver_6_28_4_2021.csv',index=False)"
   ]
  },
  {
   "cell_type": "code",
   "execution_count": 72,
   "metadata": {
    "ExecuteTime": {
     "end_time": "2021-04-29T19:20:32.692443Z",
     "start_time": "2021-04-29T19:20:32.654677Z"
    }
   },
   "outputs": [
    {
     "data": {
      "text/plain": [
       "37328"
      ]
     },
     "execution_count": 72,
     "metadata": {},
     "output_type": "execute_result"
    }
   ],
   "source": [
    "len(pd.DataFrame(whatson_results)[0].unique())"
   ]
  },
  {
   "cell_type": "code",
   "execution_count": 51,
   "metadata": {
    "ExecuteTime": {
     "end_time": "2021-04-29T14:45:34.069833Z",
     "start_time": "2021-04-29T14:45:34.062795Z"
    }
   },
   "outputs": [
    {
     "data": {
      "text/plain": [
       "['fus4oyd', -0.774136, 'negative']"
      ]
     },
     "execution_count": 51,
     "metadata": {},
     "output_type": "execute_result"
    }
   ],
   "source": [
    "whatson_results[-1]"
   ]
  },
  {
   "cell_type": "code",
   "execution_count": 90,
   "metadata": {
    "ExecuteTime": {
     "end_time": "2021-04-29T19:45:44.995605Z",
     "start_time": "2021-04-29T19:45:44.987876Z"
    }
   },
   "outputs": [
    {
     "data": {
      "text/plain": [
       "37346    aye?. whens the last time ye bot the basics oo...\n",
       "37347    This post is a prime example of putting all yo...\n",
       "37348    re-assess your priorities mate\\n\\ngym gains ar...\n",
       "37349    Well work out at home.  Bodyweight, kettlebell...\n",
       "Name: body, dtype: object"
      ]
     },
     "execution_count": 90,
     "metadata": {},
     "output_type": "execute_result"
    }
   ],
   "source": [
    "df2.body.iloc[37346:37350]"
   ]
  },
  {
   "cell_type": "code",
   "execution_count": 47,
   "metadata": {
    "ExecuteTime": {
     "end_time": "2021-04-29T14:43:44.185888Z",
     "start_time": "2021-04-29T14:43:44.179782Z"
    }
   },
   "outputs": [
    {
     "name": "stdout",
     "output_type": "stream",
     "text": [
      "10\n"
     ]
    }
   ],
   "source": [
    "print(len(whatson_results))"
   ]
  },
  {
   "cell_type": "code",
   "execution_count": null,
   "metadata": {},
   "outputs": [],
   "source": []
  }
 ],
 "metadata": {
  "kernelspec": {
   "display_name": "Python 3",
   "language": "python",
   "name": "python3"
  },
  "language_info": {
   "codemirror_mode": {
    "name": "ipython",
    "version": 3
   },
   "file_extension": ".py",
   "mimetype": "text/x-python",
   "name": "python",
   "nbconvert_exporter": "python",
   "pygments_lexer": "ipython3",
   "version": "3.8.5"
  },
  "varInspector": {
   "cols": {
    "lenName": 16,
    "lenType": 16,
    "lenVar": 40
   },
   "kernels_config": {
    "python": {
     "delete_cmd_postfix": "",
     "delete_cmd_prefix": "del ",
     "library": "var_list.py",
     "varRefreshCmd": "print(var_dic_list())"
    },
    "r": {
     "delete_cmd_postfix": ") ",
     "delete_cmd_prefix": "rm(",
     "library": "var_list.r",
     "varRefreshCmd": "cat(var_dic_list()) "
    }
   },
   "types_to_exclude": [
    "module",
    "function",
    "builtin_function_or_method",
    "instance",
    "_Feature"
   ],
   "window_display": false
  }
 },
 "nbformat": 4,
 "nbformat_minor": 4
}
