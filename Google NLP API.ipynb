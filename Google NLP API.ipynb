{
 "cells": [
  {
   "cell_type": "code",
   "execution_count": null,
   "metadata": {},
   "outputs": [],
   "source": [
    "# pip install --upgrade google-cloud-language"
   ]
  },
  {
   "cell_type": "code",
   "execution_count": null,
   "metadata": {},
   "outputs": [],
   "source": [
    "# export GOOGLE_APPLICATION_CREDENTIALS=\"/Users/eoinkeaney/Desktop/Cap_Stone_Data/river-autumn-312013-aac7119329a6.json\""
   ]
  },
  {
   "cell_type": "code",
   "execution_count": null,
   "metadata": {},
   "outputs": [],
   "source": []
  },
  {
   "cell_type": "code",
   "execution_count": null,
   "metadata": {},
   "outputs": [],
   "source": []
  },
  {
   "cell_type": "code",
   "execution_count": 61,
   "metadata": {
    "ExecuteTime": {
     "end_time": "2021-04-29T14:11:22.088784Z",
     "start_time": "2021-04-29T14:11:22.083703Z"
    }
   },
   "outputs": [],
   "source": [
    "import os\n",
    "\n",
    "os.environ['GOOGLE_APPLICATION_CREDENTIALS'] = \"/Users/eoinkeaney/Desktop/Cap_Stone_Data/river-autumn-312013-aac7119329a6.json\"\n"
   ]
  },
  {
   "cell_type": "code",
   "execution_count": 6,
   "metadata": {
    "ExecuteTime": {
     "end_time": "2021-04-29T13:08:04.113350Z",
     "start_time": "2021-04-29T13:08:04.078450Z"
    }
   },
   "outputs": [],
   "source": [
    "# Imports the Google Cloud client library\n",
    "from google.cloud import language_v1\n",
    "\n",
    "\n",
    "# Instantiates a client\n",
    "client = language_v1.LanguageServiceClient()\n"
   ]
  },
  {
   "cell_type": "code",
   "execution_count": null,
   "metadata": {},
   "outputs": [],
   "source": []
  },
  {
   "cell_type": "code",
   "execution_count": 7,
   "metadata": {
    "ExecuteTime": {
     "end_time": "2021-04-29T13:08:18.281081Z",
     "start_time": "2021-04-29T13:08:17.849310Z"
    }
   },
   "outputs": [
    {
     "name": "stdout",
     "output_type": "stream",
     "text": [
      "Text: Hello, world!\n",
      "Sentiment: 0.6000000238418579, 0.6000000238418579\n"
     ]
    }
   ],
   "source": [
    "# The text to analyze\n",
    "text = u\"Hello, world!\"\n",
    "document = language_v1.Document(content=text, type_=language_v1.Document.Type.PLAIN_TEXT)\n",
    "\n",
    "# Detects the sentiment of the text\n",
    "sentiment = client.analyze_sentiment(request={'document': document}).document_sentiment\n",
    "\n",
    "print(\"Text: {}\".format(text))\n",
    "print(\"Sentiment: {}, {}\".format(sentiment.score, sentiment.magnitude))"
   ]
  },
  {
   "cell_type": "code",
   "execution_count": 30,
   "metadata": {
    "ExecuteTime": {
     "end_time": "2021-04-29T13:27:12.876183Z",
     "start_time": "2021-04-29T13:27:12.869767Z"
    }
   },
   "outputs": [
    {
     "data": {
      "text/plain": [
       "magnitude: 0.6000000238418579\n",
       "score: 0.6000000238418579"
      ]
     },
     "execution_count": 30,
     "metadata": {},
     "output_type": "execute_result"
    }
   ],
   "source": [
    "sentiment."
   ]
  },
  {
   "cell_type": "code",
   "execution_count": null,
   "metadata": {},
   "outputs": [],
   "source": []
  },
  {
   "cell_type": "code",
   "execution_count": 9,
   "metadata": {
    "ExecuteTime": {
     "end_time": "2021-04-29T13:16:23.995779Z",
     "start_time": "2021-04-29T13:16:23.071577Z"
    }
   },
   "outputs": [],
   "source": [
    "import numpy as np\n",
    "import pandas as pd\n",
    "import matplotlib.pyplot as plt\n",
    "from matplotlib import cm\n",
    "import seaborn as sns\n",
    "import networkx as nx\n",
    "\n",
    "plt.style.use('ggplot')\n",
    "%matplotlib inline\n",
    "%config InlineBackend.figure_format = 'retina'"
   ]
  },
  {
   "cell_type": "code",
   "execution_count": 10,
   "metadata": {
    "ExecuteTime": {
     "end_time": "2021-04-29T13:16:26.570275Z",
     "start_time": "2021-04-29T13:16:24.005396Z"
    }
   },
   "outputs": [],
   "source": [
    "df = pd.read_csv('/Users/eoinkeaney/Desktop/Cap_Stone_Data/comm_sentament_score_ver_7_29-4-2021')"
   ]
  },
  {
   "cell_type": "code",
   "execution_count": 11,
   "metadata": {
    "ExecuteTime": {
     "end_time": "2021-04-29T13:16:52.375536Z",
     "start_time": "2021-04-29T13:16:52.363166Z"
    }
   },
   "outputs": [
    {
     "data": {
      "text/plain": [
       "Index(['id', 'name', 'score', 'parent_id', 'depth', 'body', 'author',\n",
       "       'created_utc', 'subreddit_name_prefixed', 'date', 'body_lenght_full',\n",
       "       'processed_quote', 'tokenised_quotes', 'objectivity_avg',\n",
       "       'polarity_avg', 'vader_compound', 'vader_neg', 'vader_neu',\n",
       "       'vader_pos'],\n",
       "      dtype='object')"
      ]
     },
     "execution_count": 11,
     "metadata": {},
     "output_type": "execute_result"
    }
   ],
   "source": [
    "df.columns"
   ]
  },
  {
   "cell_type": "code",
   "execution_count": 12,
   "metadata": {
    "ExecuteTime": {
     "end_time": "2021-04-29T13:17:06.368695Z",
     "start_time": "2021-04-29T13:17:06.357009Z"
    }
   },
   "outputs": [
    {
     "data": {
      "text/plain": [
       "10"
      ]
     },
     "execution_count": 12,
     "metadata": {},
     "output_type": "execute_result"
    }
   ],
   "source": [
    "df.body_lenght_full.min()"
   ]
  },
  {
   "cell_type": "code",
   "execution_count": null,
   "metadata": {},
   "outputs": [],
   "source": [
    "df.body_lenght_full"
   ]
  },
  {
   "cell_type": "code",
   "execution_count": 14,
   "metadata": {
    "ExecuteTime": {
     "end_time": "2021-04-29T13:18:49.575886Z",
     "start_time": "2021-04-29T13:18:49.570447Z"
    }
   },
   "outputs": [
    {
     "data": {
      "text/plain": [
       "(398939, 19)"
      ]
     },
     "execution_count": 14,
     "metadata": {},
     "output_type": "execute_result"
    }
   ],
   "source": [
    "df.shape"
   ]
  },
  {
   "cell_type": "code",
   "execution_count": 15,
   "metadata": {
    "ExecuteTime": {
     "end_time": "2021-04-29T13:20:13.224448Z",
     "start_time": "2021-04-29T13:20:12.104095Z"
    }
   },
   "outputs": [],
   "source": [
    "df2 = pd.read_csv('/Users/eoinkeaney/Desktop/Cap_Stone_Data/comm_sentament_vader_score_filtered_ver_5_28-4-2021.csv')"
   ]
  },
  {
   "cell_type": "code",
   "execution_count": 17,
   "metadata": {
    "ExecuteTime": {
     "end_time": "2021-04-29T13:20:39.207827Z",
     "start_time": "2021-04-29T13:20:39.200997Z"
    }
   },
   "outputs": [
    {
     "data": {
      "text/plain": [
       "Index(['Unnamed: 0', 'Unnamed: 0.1', 'id', 'name', 'score', 'parent_id',\n",
       "       'depth', 'body', 'author', 'created_utc', 'date_clean',\n",
       "       'subreddit_name_prefixed', 'body_lenght_full', 'processed_quote',\n",
       "       'tokenised_quotes', 'objectivity_avg', 'polarity_avg'],\n",
       "      dtype='object')"
      ]
     },
     "execution_count": 17,
     "metadata": {},
     "output_type": "execute_result"
    }
   ],
   "source": [
    "df2.columns"
   ]
  },
  {
   "cell_type": "code",
   "execution_count": null,
   "metadata": {},
   "outputs": [],
   "source": [
    "# first 100"
   ]
  },
  {
   "cell_type": "code",
   "execution_count": 34,
   "metadata": {
    "ExecuteTime": {
     "end_time": "2021-04-29T13:31:26.779372Z",
     "start_time": "2021-04-29T13:31:26.775325Z"
    }
   },
   "outputs": [],
   "source": [
    "google_results = []"
   ]
  },
  {
   "cell_type": "code",
   "execution_count": 72,
   "metadata": {
    "ExecuteTime": {
     "end_time": "2021-04-29T14:48:07.104889Z",
     "start_time": "2021-04-29T14:48:07.099352Z"
    }
   },
   "outputs": [
    {
     "data": {
      "text/plain": [
       "(161721, 17)"
      ]
     },
     "execution_count": 72,
     "metadata": {},
     "output_type": "execute_result"
    }
   ],
   "source": [
    "df2.shape"
   ]
  },
  {
   "cell_type": "code",
   "execution_count": 35,
   "metadata": {
    "ExecuteTime": {
     "end_time": "2021-04-29T13:32:33.423492Z",
     "start_time": "2021-04-29T13:32:33.420348Z"
    }
   },
   "outputs": [],
   "source": [
    "from IPython.display import clear_output"
   ]
  },
  {
   "cell_type": "code",
   "execution_count": 94,
   "metadata": {
    "ExecuteTime": {
     "end_time": "2021-04-29T17:16:56.616697Z",
     "start_time": "2021-04-29T16:10:52.043935Z"
    }
   },
   "outputs": [
    {
     "name": "stdout",
     "output_type": "stream",
     "text": [
      "19999  -  20000\n",
      "49983\n"
     ]
    }
   ],
   "source": [
    "range_start = 30000\n",
    "range_stop = 50000\n",
    "\n",
    "total = range_stop - range_start\n",
    "count = 0\n",
    "for row in df2.iloc[range_start:range_stop].iterrows():\n",
    "    clear_output(wait=True)\n",
    "    print(count,' - ', total)\n",
    "    count = count + 1\n",
    "    document = language_v1.Document(content=row[1].body, type_=language_v1.Document.Type.PLAIN_TEXT)\n",
    "    sentiment = client.analyze_sentiment(request={'document': document}).document_sentiment\n",
    "    google_results.append([row[1].id,sentiment.score,sentiment.magnitude])\n",
    "print(len(google_results))"
   ]
  },
  {
   "cell_type": "code",
   "execution_count": 95,
   "metadata": {
    "ExecuteTime": {
     "end_time": "2021-04-29T17:17:47.015241Z",
     "start_time": "2021-04-29T17:17:46.800778Z"
    }
   },
   "outputs": [],
   "source": [
    "pd.DataFrame(google_results).to_csv('/Users/eoinkeaney/Desktop/Cap_Stone_Data/google_results_ver_5_28_4_2021.csv',index=False)"
   ]
  },
  {
   "cell_type": "code",
   "execution_count": 54,
   "metadata": {
    "ExecuteTime": {
     "end_time": "2021-04-29T13:49:35.703902Z",
     "start_time": "2021-04-29T13:49:35.690604Z"
    }
   },
   "outputs": [
    {
     "data": {
      "text/plain": [
       "1996"
      ]
     },
     "execution_count": 54,
     "metadata": {},
     "output_type": "execute_result"
    }
   ],
   "source": [
    "len(pd.DataFrame(google_results)[0].unique())"
   ]
  },
  {
   "cell_type": "code",
   "execution_count": 96,
   "metadata": {
    "ExecuteTime": {
     "end_time": "2021-04-29T17:17:50.908247Z",
     "start_time": "2021-04-29T17:17:50.903171Z"
    }
   },
   "outputs": [
    {
     "data": {
      "text/plain": [
       "['fl1ms80', -0.5, 2.299999952316284]"
      ]
     },
     "execution_count": 96,
     "metadata": {},
     "output_type": "execute_result"
    }
   ],
   "source": [
    "google_results[-1]"
   ]
  },
  {
   "cell_type": "code",
   "execution_count": 89,
   "metadata": {
    "ExecuteTime": {
     "end_time": "2021-04-29T15:58:23.053892Z",
     "start_time": "2021-04-29T15:58:23.028428Z"
    }
   },
   "outputs": [
    {
     "data": {
      "text/html": [
       "<div>\n",
       "<style scoped>\n",
       "    .dataframe tbody tr th:only-of-type {\n",
       "        vertical-align: middle;\n",
       "    }\n",
       "\n",
       "    .dataframe tbody tr th {\n",
       "        vertical-align: top;\n",
       "    }\n",
       "\n",
       "    .dataframe thead th {\n",
       "        text-align: right;\n",
       "    }\n",
       "</style>\n",
       "<table border=\"1\" class=\"dataframe\">\n",
       "  <thead>\n",
       "    <tr style=\"text-align: right;\">\n",
       "      <th></th>\n",
       "      <th>name</th>\n",
       "      <th>body</th>\n",
       "    </tr>\n",
       "  </thead>\n",
       "  <tbody>\n",
       "    <tr>\n",
       "      <th>27447</th>\n",
       "      <td>t1_fgsca88</td>\n",
       "      <td>Jel ima po Londonu nekih mjesta di se okupljaj...</td>\n",
       "    </tr>\n",
       "    <tr>\n",
       "      <th>27448</th>\n",
       "      <td>t1_fgqoc8y</td>\n",
       "      <td>Really cheap and popular is the Indian Veg on ...</td>\n",
       "    </tr>\n",
       "    <tr>\n",
       "      <th>27449</th>\n",
       "      <td>t1_fgs0s2q</td>\n",
       "      <td>Purezza in Camden for amazing pizza\\n\\nTemple ...</td>\n",
       "    </tr>\n",
       "    <tr>\n",
       "      <th>27450</th>\n",
       "      <td>t1_fgqrask</td>\n",
       "      <td>Purezza in Camden is easily the best vegan piz...</td>\n",
       "    </tr>\n",
       "    <tr>\n",
       "      <th>27451</th>\n",
       "      <td>t1_fgr1ku9</td>\n",
       "      <td>Not a fan, we live close and we've had some re...</td>\n",
       "    </tr>\n",
       "    <tr>\n",
       "      <th>27452</th>\n",
       "      <td>t1_fgqtxvm</td>\n",
       "      <td>Thanks a bunch! I’m always nostalgic for a goo...</td>\n",
       "    </tr>\n",
       "    <tr>\n",
       "      <th>27453</th>\n",
       "      <td>t1_fgs1q9f</td>\n",
       "      <td>Aye no worries, I fucking love being vegan in ...</td>\n",
       "    </tr>\n",
       "    <tr>\n",
       "      <th>27454</th>\n",
       "      <td>t1_fgppoc1</td>\n",
       "      <td>Black cabs have to adhere to more regulation t...</td>\n",
       "    </tr>\n",
       "  </tbody>\n",
       "</table>\n",
       "</div>"
      ],
      "text/plain": [
       "             name                                               body\n",
       "27447  t1_fgsca88  Jel ima po Londonu nekih mjesta di se okupljaj...\n",
       "27448  t1_fgqoc8y  Really cheap and popular is the Indian Veg on ...\n",
       "27449  t1_fgs0s2q  Purezza in Camden for amazing pizza\\n\\nTemple ...\n",
       "27450  t1_fgqrask  Purezza in Camden is easily the best vegan piz...\n",
       "27451  t1_fgr1ku9  Not a fan, we live close and we've had some re...\n",
       "27452  t1_fgqtxvm  Thanks a bunch! I’m always nostalgic for a goo...\n",
       "27453  t1_fgs1q9f  Aye no worries, I fucking love being vegan in ...\n",
       "27454  t1_fgppoc1  Black cabs have to adhere to more regulation t..."
      ]
     },
     "execution_count": 89,
     "metadata": {},
     "output_type": "execute_result"
    }
   ],
   "source": [
    "df2[['name','body']].iloc[27447:27455]"
   ]
  },
  {
   "cell_type": "code",
   "execution_count": 92,
   "metadata": {
    "ExecuteTime": {
     "end_time": "2021-04-29T16:10:29.323798Z",
     "start_time": "2021-04-29T16:10:29.320263Z"
    }
   },
   "outputs": [
    {
     "name": "stdout",
     "output_type": "stream",
     "text": [
      "29983\n"
     ]
    }
   ],
   "source": [
    "print(len(google_results))"
   ]
  },
  {
   "cell_type": "code",
   "execution_count": null,
   "metadata": {},
   "outputs": [],
   "source": []
  }
 ],
 "metadata": {
  "kernelspec": {
   "display_name": "Python 3",
   "language": "python",
   "name": "python3"
  },
  "language_info": {
   "codemirror_mode": {
    "name": "ipython",
    "version": 3
   },
   "file_extension": ".py",
   "mimetype": "text/x-python",
   "name": "python",
   "nbconvert_exporter": "python",
   "pygments_lexer": "ipython3",
   "version": "3.8.5"
  },
  "varInspector": {
   "cols": {
    "lenName": 16,
    "lenType": 16,
    "lenVar": 40
   },
   "kernels_config": {
    "python": {
     "delete_cmd_postfix": "",
     "delete_cmd_prefix": "del ",
     "library": "var_list.py",
     "varRefreshCmd": "print(var_dic_list())"
    },
    "r": {
     "delete_cmd_postfix": ") ",
     "delete_cmd_prefix": "rm(",
     "library": "var_list.r",
     "varRefreshCmd": "cat(var_dic_list()) "
    }
   },
   "types_to_exclude": [
    "module",
    "function",
    "builtin_function_or_method",
    "instance",
    "_Feature"
   ],
   "window_display": false
  }
 },
 "nbformat": 4,
 "nbformat_minor": 4
}
